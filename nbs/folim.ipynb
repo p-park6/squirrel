{
 "cells": [
  {
   "cell_type": "code",
   "execution_count": 4,
   "metadata": {},
   "outputs": [
    {
     "ename": "ModuleNotFoundError",
     "evalue": "No module named 'geopandas'",
     "output_type": "error",
     "traceback": [
      "\u001b[0;31m---------------------------------------------------------------------------\u001b[0m",
      "\u001b[0;31mModuleNotFoundError\u001b[0m                       Traceback (most recent call last)",
      "Cell \u001b[0;32mIn[4], line 1\u001b[0m\n\u001b[0;32m----> 1\u001b[0m \u001b[39mimport\u001b[39;00m \u001b[39mleafmap\u001b[39;00m\u001b[39m.\u001b[39;00m\u001b[39mfoliumap\u001b[39;00m \u001b[39mas\u001b[39;00m \u001b[39mleafmap\u001b[39;00m\n\u001b[1;32m      2\u001b[0m m \u001b[39m=\u001b[39m leafmap\u001b[39m.\u001b[39mMap(center\u001b[39m=\u001b[39m[\u001b[39m37.75\u001b[39m, \u001b[39m-\u001b[39m\u001b[39m122.43\u001b[39m], zoom\u001b[39m=\u001b[39m\u001b[39m12\u001b[39m, height\u001b[39m=\u001b[39m\u001b[39m'\u001b[39m\u001b[39m500px\u001b[39m\u001b[39m'\u001b[39m)\n",
      "File \u001b[0;32m~/opt/anaconda3/envs/HAAAAAWK/lib/python3.10/site-packages/leafmap/foliumap.py:16\u001b[0m\n\u001b[1;32m     14\u001b[0m \u001b[39mfrom\u001b[39;00m \u001b[39mfolium\u001b[39;00m\u001b[39m.\u001b[39;00m\u001b[39mmap\u001b[39;00m \u001b[39mimport\u001b[39;00m Layer\n\u001b[1;32m     15\u001b[0m \u001b[39mfrom\u001b[39;00m \u001b[39mjinja2\u001b[39;00m \u001b[39mimport\u001b[39;00m Template\n\u001b[0;32m---> 16\u001b[0m \u001b[39mfrom\u001b[39;00m \u001b[39mgeopandas\u001b[39;00m \u001b[39mimport\u001b[39;00m GeoDataFrame, GeoSeries\n\u001b[1;32m     18\u001b[0m basemaps \u001b[39m=\u001b[39m Box(xyz_to_folium(), frozen_box\u001b[39m=\u001b[39m\u001b[39mTrue\u001b[39;00m)\n\u001b[1;32m     19\u001b[0m \u001b[39mimport\u001b[39;00m \u001b[39mpandas\u001b[39;00m \u001b[39mas\u001b[39;00m \u001b[39mpd\u001b[39;00m\n",
      "\u001b[0;31mModuleNotFoundError\u001b[0m: No module named 'geopandas'"
     ]
    }
   ],
   "source": [
    "import leafmap.foliumap as leafmap\n",
    "m = leafmap.Map(center=[37.75, -122.43], zoom=12, height='500px')"
   ]
  }
 ],
 "metadata": {
  "kernelspec": {
   "display_name": "HAAAAAWK",
   "language": "python",
   "name": "python3"
  },
  "language_info": {
   "codemirror_mode": {
    "name": "ipython",
    "version": 3
   },
   "file_extension": ".py",
   "mimetype": "text/x-python",
   "name": "python",
   "nbconvert_exporter": "python",
   "pygments_lexer": "ipython3",
   "version": "3.10.13"
  },
  "orig_nbformat": 4
 },
 "nbformat": 4,
 "nbformat_minor": 2
}
