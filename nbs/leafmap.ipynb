{
 "cells": [
  {
   "cell_type": "markdown",
   "metadata": {},
   "source": [
    "## Leafmap MASTER COPY"
   ]
  },
  {
   "cell_type": "code",
   "execution_count": null,
   "metadata": {},
   "outputs": [],
   "source": [
    "import leafmap.leafmap as leafmap\n",
    "import pandas as pd\n",
    "import leafmap.colormaps as cm"
   ]
  },
  {
   "cell_type": "code",
   "execution_count": null,
   "metadata": {},
   "outputs": [],
   "source": [
    "m = leafmap.Map(center=[40.7826, -73.9656], zoom=14)\n",
    "m.add_tile_layer(\n",
    "    url=\"http://mt0.google.com/vt/lyrs=m&hl=en&x={x}&y={y}&z={z} \",\n",
    "    name=\"Google Roadmap\",\n",
    "    attribution=\"Google\",\n",
    ")\n",
    "squirrel = pd.read_csv('data/2018_Central_Park_Squirrel_Census_-_Squirrel_Data.csv')\n",
    "m.add_xy_data(squirrel, x=\"X\", y=\"Y\", layer_name=\"squirrel sightings\")\n",
    "\n",
    "m\n"
   ]
  },
  {
   "cell_type": "markdown",
   "metadata": {},
   "source": [
    "## Leafmap Practice Walkthrough"
   ]
  },
  {
   "cell_type": "code",
   "execution_count": null,
   "metadata": {},
   "outputs": [],
   "source": [
    "Map = leafmap.Map(center=[-64.767, -64.08], zoom=14)\n",
    "Map.add_tile_layer(\n",
    "    url=\"http://mt0.google.com/vt/lyrs=m&hl=en&x={x}&y={y}&z={z} \",\n",
    "    name=\"Google Roadmap\",\n",
    "    attribution=\"Google\",\n",
    ")\n",
    "\n",
    "# cm.plot_colormap(colors=cm.get_palette('spring_r', n_class=3))\n",
    "cm.plot_colormap(\n",
    "    colors=[\"pink\", \"orange\", \"cyan\"], discrete=True, label=\"Species\", font_size=12\n",
    ")"
   ]
  }
 ],
 "metadata": {
  "kernelspec": {
   "display_name": "Python 3",
   "language": "python",
   "name": "python3"
  },
  "language_info": {
   "codemirror_mode": {
    "name": "ipython",
    "version": 3
   },
   "file_extension": ".py",
   "mimetype": "text/x-python",
   "name": "python",
   "nbconvert_exporter": "python",
   "pygments_lexer": "ipython3",
   "version": "3.10.13"
  },
  "orig_nbformat": 4
 },
 "nbformat": 4,
 "nbformat_minor": 2
}
