{
 "cells": [
  {
   "cell_type": "code",
   "execution_count": 1,
   "metadata": {},
   "outputs": [],
   "source": [
    "#THIS DEMO WILL BE DONE LIVE\n",
    "\n",
    "#import leafmap in session\n",
    "import leafmap"
   ]
  },
  {
   "cell_type": "code",
   "execution_count": null,
   "metadata": {},
   "outputs": [],
   "source": [
    "#create a basemap\n",
    "m = leafmap.Map()\n",
    "m"
   ]
  },
  {
   "cell_type": "code",
   "execution_count": 3,
   "metadata": {},
   "outputs": [
    {
     "data": {
      "text/plain": [
       "[{'type': 'Feature',\n",
       "  'properties': {'Type': 'Land', 'Area': ''},\n",
       "  'geometry': {'type': 'Polygon',\n",
       "   'coordinates': [[[-100.898438, 35.88905],\n",
       "     [-100.898438, 43.452919],\n",
       "     [-85.429688, 43.452919],\n",
       "     [-85.429688, 35.88905],\n",
       "     [-100.898438, 35.88905]]]}}]"
      ]
     },
     "execution_count": 3,
     "metadata": {},
     "output_type": "execute_result"
    }
   ],
   "source": [
    "#gives us data about the drawn vectors on the map\n",
    "m.draw_features"
   ]
  },
  {
   "cell_type": "code",
   "execution_count": null,
   "metadata": {},
   "outputs": [],
   "source": [
    "#save map with drawn vectors on it\n",
    "m.save_draw_features(\"data.geojson\")"
   ]
  }
 ],
 "metadata": {
  "kernelspec": {
   "display_name": "HAAAAWK",
   "language": "python",
   "name": "python3"
  },
  "language_info": {
   "codemirror_mode": {
    "name": "ipython",
    "version": 3
   },
   "file_extension": ".py",
   "mimetype": "text/x-python",
   "name": "python",
   "nbconvert_exporter": "python",
   "pygments_lexer": "ipython3",
   "version": "3.10.13"
  },
  "orig_nbformat": 4
 },
 "nbformat": 4,
 "nbformat_minor": 2
}
