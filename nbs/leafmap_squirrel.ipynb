{
 "cells": [
  {
   "cell_type": "markdown",
   "metadata": {},
   "source": [
    "## Leafmap MASTER COPY"
   ]
  },
  {
   "cell_type": "code",
   "execution_count": 1,
   "metadata": {},
   "outputs": [
    {
     "name": "stdout",
     "output_type": "stream",
     "text": [
      "Intel MKL WARNING: Support of Intel(R) Streaming SIMD Extensions 4.2 (Intel(R) SSE4.2) enabled only processors has been deprecated. Intel oneAPI Math Kernel Library 2025.0 will require Intel(R) Advanced Vector Extensions (Intel(R) AVX) instructions.\n",
      "Intel MKL WARNING: Support of Intel(R) Streaming SIMD Extensions 4.2 (Intel(R) SSE4.2) enabled only processors has been deprecated. Intel oneAPI Math Kernel Library 2025.0 will require Intel(R) Advanced Vector Extensions (Intel(R) AVX) instructions.\n"
     ]
    }
   ],
   "source": [
    "import leafmap.leafmap as leafmap\n",
    "import pandas as pd\n",
    "import leafmap.colormaps as cm"
   ]
  },
  {
   "cell_type": "markdown",
   "metadata": {},
   "source": [
    "## Easy as 1,2,3"
   ]
  },
  {
   "cell_type": "code",
   "execution_count": null,
   "metadata": {},
   "outputs": [],
   "source": [
    "leafmap.Map()\n"
   ]
  },
  {
   "cell_type": "markdown",
   "metadata": {},
   "source": [
    "## Add Colormaps and Legend Data\n"
   ]
  },
  {
   "cell_type": "code",
   "execution_count": null,
   "metadata": {},
   "outputs": [],
   "source": [
    "legends = leafmap.builtin_legends\n",
    "for legend in legends:\n",
    "    print(legend)"
   ]
  },
  {
   "cell_type": "code",
   "execution_count": null,
   "metadata": {},
   "outputs": [],
   "source": [
    "url = \"https://www.mrlc.gov/geoserver/mrlc_display/NLCD_2016_Land_Cover_L48/wms?\"\n",
    "Map = leafmap.Map(center = [37.0902,-95.7129], zoom = 4)\n",
    "Map.add_wms_layer(\n",
    "    url,\n",
    "    layers=\"NLCD_2016_Land_Cover_L48\",\n",
    "    name=\"NLCD 2016 CONUS Land Cover\",\n",
    "    format=\"image/png\",\n",
    "    transparent=True,\n",
    ")\n",
    "Map.add_legend(builtin_legend='NLCD')\n",
    "Map"
   ]
  },
  {
   "cell_type": "code",
   "execution_count": 4,
   "metadata": {},
   "outputs": [
    {
     "name": "stdout",
     "output_type": "stream",
     "text": [
      "ndvi\n",
      "ndwi\n",
      "dem\n",
      "Accent\n",
      "Accent_r\n",
      "Blues\n",
      "Blues_r\n",
      "BrBG\n",
      "BrBG_r\n",
      "BuGn\n",
      "BuGn_r\n",
      "BuPu\n",
      "BuPu_r\n",
      "CMRmap\n",
      "CMRmap_r\n",
      "Dark2\n",
      "Dark2_r\n",
      "GnBu\n",
      "GnBu_r\n",
      "Greens\n",
      "Greens_r\n",
      "Greys\n",
      "Greys_r\n",
      "OrRd\n",
      "OrRd_r\n",
      "Oranges\n",
      "Oranges_r\n",
      "PRGn\n",
      "PRGn_r\n",
      "Paired\n",
      "Paired_r\n",
      "Pastel1\n",
      "Pastel1_r\n",
      "Pastel2\n",
      "Pastel2_r\n",
      "PiYG\n",
      "PiYG_r\n",
      "PuBu\n",
      "PuBuGn\n",
      "PuBuGn_r\n",
      "PuBu_r\n",
      "PuOr\n",
      "PuOr_r\n",
      "PuRd\n",
      "PuRd_r\n",
      "Purples\n",
      "Purples_r\n",
      "RdBu\n",
      "RdBu_r\n",
      "RdGy\n",
      "RdGy_r\n",
      "RdPu\n",
      "RdPu_r\n",
      "RdYlBu\n",
      "RdYlBu_r\n",
      "RdYlGn\n",
      "RdYlGn_r\n",
      "Reds\n",
      "Reds_r\n",
      "Set1\n",
      "Set1_r\n",
      "Set2\n",
      "Set2_r\n",
      "Set3\n",
      "Set3_r\n",
      "Spectral\n",
      "Spectral_r\n",
      "Wistia\n",
      "Wistia_r\n",
      "YlGn\n",
      "YlGnBu\n",
      "YlGnBu_r\n",
      "YlGn_r\n",
      "YlOrBr\n",
      "YlOrBr_r\n",
      "YlOrRd\n",
      "YlOrRd_r\n",
      "afmhot\n",
      "afmhot_r\n",
      "autumn\n",
      "autumn_r\n",
      "binary\n",
      "binary_r\n",
      "bone\n",
      "bone_r\n",
      "brg\n",
      "brg_r\n",
      "bwr\n",
      "bwr_r\n",
      "cividis\n",
      "cividis_r\n",
      "cool\n",
      "cool_r\n",
      "coolwarm\n",
      "coolwarm_r\n",
      "copper\n",
      "copper_r\n",
      "cubehelix\n",
      "cubehelix_r\n",
      "flag\n",
      "flag_r\n",
      "gist_earth\n",
      "gist_earth_r\n",
      "gist_gray\n",
      "gist_gray_r\n",
      "gist_heat\n",
      "gist_heat_r\n",
      "gist_ncar\n",
      "gist_ncar_r\n",
      "gist_rainbow\n",
      "gist_rainbow_r\n",
      "gist_stern\n",
      "gist_stern_r\n",
      "gist_yarg\n",
      "gist_yarg_r\n",
      "gnuplot\n",
      "gnuplot2\n",
      "gnuplot2_r\n",
      "gnuplot_r\n",
      "gray\n",
      "gray_r\n",
      "hot\n",
      "hot_r\n",
      "hsv\n",
      "hsv_r\n",
      "inferno\n",
      "inferno_r\n",
      "jet\n",
      "jet_r\n",
      "magma\n",
      "magma_r\n",
      "nipy_spectral\n",
      "nipy_spectral_r\n",
      "ocean\n",
      "ocean_r\n",
      "pink\n",
      "pink_r\n",
      "plasma\n",
      "plasma_r\n",
      "prism\n",
      "prism_r\n",
      "rainbow\n",
      "rainbow_r\n",
      "seismic\n",
      "seismic_r\n",
      "spring\n",
      "spring_r\n",
      "summer\n",
      "summer_r\n",
      "tab10\n",
      "tab10_r\n",
      "tab20\n",
      "tab20_r\n",
      "tab20b\n",
      "tab20b_r\n",
      "tab20c\n",
      "tab20c_r\n",
      "terrain\n",
      "terrain_r\n",
      "turbo\n",
      "turbo_r\n",
      "twilight\n",
      "twilight_r\n",
      "twilight_shifted\n",
      "twilight_shifted_r\n",
      "viridis\n",
      "viridis_r\n",
      "winter\n",
      "winter_r\n"
     ]
    }
   ],
   "source": [
    "for palette in cm.palettes:\n",
    "    print(palette)"
   ]
  },
  {
   "cell_type": "code",
   "execution_count": null,
   "metadata": {},
   "outputs": [],
   "source": [
    "m = leafmap.Map()\n",
    "m.add_basemap(\"OpenTopoMap\")\n",
    "m.add_colormap(\n",
    "    'terrain',\n",
    "    label=\"Elevation\",\n",
    "    width=8.0,\n",
    "    height=0.4,\n",
    "    orientation='horizontal',\n",
    "    vmin=0,\n",
    "    vmax=4000,\n",
    ")\n",
    "m"
   ]
  },
  {
   "cell_type": "markdown",
   "metadata": {},
   "source": [
    "## Time series Data"
   ]
  },
  {
   "cell_type": "markdown",
   "metadata": {},
   "source": [
    "## ArcGIS"
   ]
  },
  {
   "cell_type": "markdown",
   "metadata": {},
   "source": [
    "## Demo Master Copy"
   ]
  },
  {
   "cell_type": "code",
   "execution_count": null,
   "metadata": {},
   "outputs": [],
   "source": [
    "m = leafmap.Map(center=[40.7826, -73.9656], zoom=14) #40.7826, -73.9656\n",
    "m.add_tile_layer(\n",
    "    url=\"http://mt0.google.com/vt/lyrs=m&hl=en&x={x}&y={y}&z={z} \",\n",
    "    name=\"Google Roadmap\",\n",
    "    attribution=\"Google\",\n",
    ")\n",
    "squirrel = pd.read_csv('../data/2018_Central_Park_Squirrel_Census_-_Squirrel_Data.csv')\n",
    "m.add_xy_data(squirrel, x=\"X\", y=\"Y\", layer_name=\"squirrel sightings\")\n",
    "\n",
    "m\n"
   ]
  }
 ],
 "metadata": {
  "kernelspec": {
   "display_name": "Python 3",
   "language": "python",
   "name": "python3"
  },
  "language_info": {
   "codemirror_mode": {
    "name": "ipython",
    "version": 3
   },
   "file_extension": ".py",
   "mimetype": "text/x-python",
   "name": "python",
   "nbconvert_exporter": "python",
   "pygments_lexer": "ipython3",
   "version": "3.10.13"
  },
  "orig_nbformat": 4
 },
 "nbformat": 4,
 "nbformat_minor": 2
}
