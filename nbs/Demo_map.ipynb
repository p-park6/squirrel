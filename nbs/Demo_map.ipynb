{
 "cells": [
  {
   "cell_type": "code",
   "execution_count": 1,
   "metadata": {},
   "outputs": [
    {
     "name": "stdout",
     "output_type": "stream",
     "text": [
      "Requirement already satisfied: geopandas in /Users/heatherchilders/opt/anaconda3/envs/HAAAAAWK/lib/python3.10/site-packages (0.13.2)\n",
      "Requirement already satisfied: fiona>=1.8.19 in /Users/heatherchilders/opt/anaconda3/envs/HAAAAAWK/lib/python3.10/site-packages (from geopandas) (1.9.4.post1)\n",
      "Requirement already satisfied: packaging in /Users/heatherchilders/opt/anaconda3/envs/HAAAAAWK/lib/python3.10/site-packages (from geopandas) (23.1)\n",
      "Requirement already satisfied: pandas>=1.1.0 in /Users/heatherchilders/opt/anaconda3/envs/HAAAAAWK/lib/python3.10/site-packages (from geopandas) (2.0.3)\n",
      "Requirement already satisfied: pyproj>=3.0.1 in /Users/heatherchilders/opt/anaconda3/envs/HAAAAAWK/lib/python3.10/site-packages (from geopandas) (3.6.0)\n",
      "Requirement already satisfied: shapely>=1.7.1 in /Users/heatherchilders/opt/anaconda3/envs/HAAAAAWK/lib/python3.10/site-packages (from geopandas) (2.0.1)\n",
      "Requirement already satisfied: attrs>=19.2.0 in /Users/heatherchilders/opt/anaconda3/envs/HAAAAAWK/lib/python3.10/site-packages (from fiona>=1.8.19->geopandas) (22.1.0)\n",
      "Requirement already satisfied: certifi in /Users/heatherchilders/opt/anaconda3/envs/HAAAAAWK/lib/python3.10/site-packages (from fiona>=1.8.19->geopandas) (2023.7.22)\n",
      "Requirement already satisfied: click~=8.0 in /Users/heatherchilders/opt/anaconda3/envs/HAAAAAWK/lib/python3.10/site-packages (from fiona>=1.8.19->geopandas) (8.0.4)\n",
      "Requirement already satisfied: click-plugins>=1.0 in /Users/heatherchilders/opt/anaconda3/envs/HAAAAAWK/lib/python3.10/site-packages (from fiona>=1.8.19->geopandas) (1.1.1)\n",
      "Requirement already satisfied: cligj>=0.5 in /Users/heatherchilders/opt/anaconda3/envs/HAAAAAWK/lib/python3.10/site-packages (from fiona>=1.8.19->geopandas) (0.7.2)\n",
      "Requirement already satisfied: six in /Users/heatherchilders/opt/anaconda3/envs/HAAAAAWK/lib/python3.10/site-packages (from fiona>=1.8.19->geopandas) (1.16.0)\n",
      "Requirement already satisfied: python-dateutil>=2.8.2 in /Users/heatherchilders/opt/anaconda3/envs/HAAAAAWK/lib/python3.10/site-packages (from pandas>=1.1.0->geopandas) (2.8.2)\n",
      "Requirement already satisfied: pytz>=2020.1 in /Users/heatherchilders/opt/anaconda3/envs/HAAAAAWK/lib/python3.10/site-packages (from pandas>=1.1.0->geopandas) (2022.7)\n",
      "Requirement already satisfied: tzdata>=2022.1 in /Users/heatherchilders/opt/anaconda3/envs/HAAAAAWK/lib/python3.10/site-packages (from pandas>=1.1.0->geopandas) (2023.3)\n",
      "Requirement already satisfied: numpy>=1.21.0 in /Users/heatherchilders/opt/anaconda3/envs/HAAAAAWK/lib/python3.10/site-packages (from pandas>=1.1.0->geopandas) (1.25.2)\n",
      "Requirement already satisfied: folium in /Users/heatherchilders/opt/anaconda3/envs/HAAAAAWK/lib/python3.10/site-packages (0.14.0)\n",
      "Requirement already satisfied: branca>=0.6.0 in /Users/heatherchilders/opt/anaconda3/envs/HAAAAAWK/lib/python3.10/site-packages (from folium) (0.6.0)\n",
      "Requirement already satisfied: jinja2>=2.9 in /Users/heatherchilders/opt/anaconda3/envs/HAAAAAWK/lib/python3.10/site-packages (from folium) (3.1.2)\n",
      "Requirement already satisfied: numpy in /Users/heatherchilders/opt/anaconda3/envs/HAAAAAWK/lib/python3.10/site-packages (from folium) (1.25.2)\n",
      "Requirement already satisfied: requests in /Users/heatherchilders/opt/anaconda3/envs/HAAAAAWK/lib/python3.10/site-packages (from folium) (2.31.0)\n",
      "Requirement already satisfied: MarkupSafe>=2.0 in /Users/heatherchilders/opt/anaconda3/envs/HAAAAAWK/lib/python3.10/site-packages (from jinja2>=2.9->folium) (2.1.1)\n",
      "Requirement already satisfied: charset-normalizer<4,>=2 in /Users/heatherchilders/opt/anaconda3/envs/HAAAAAWK/lib/python3.10/site-packages (from requests->folium) (2.0.4)\n",
      "Requirement already satisfied: idna<4,>=2.5 in /Users/heatherchilders/opt/anaconda3/envs/HAAAAAWK/lib/python3.10/site-packages (from requests->folium) (3.4)\n",
      "Requirement already satisfied: urllib3<3,>=1.21.1 in /Users/heatherchilders/opt/anaconda3/envs/HAAAAAWK/lib/python3.10/site-packages (from requests->folium) (1.26.16)\n",
      "Requirement already satisfied: certifi>=2017.4.17 in /Users/heatherchilders/opt/anaconda3/envs/HAAAAAWK/lib/python3.10/site-packages (from requests->folium) (2023.7.22)\n",
      "Intel MKL WARNING: Support of Intel(R) Streaming SIMD Extensions 4.2 (Intel(R) SSE4.2) enabled only processors has been deprecated. Intel oneAPI Math Kernel Library 2025.0 will require Intel(R) Advanced Vector Extensions (Intel(R) AVX) instructions.\n",
      "Intel MKL WARNING: Support of Intel(R) Streaming SIMD Extensions 4.2 (Intel(R) SSE4.2) enabled only processors has been deprecated. Intel oneAPI Math Kernel Library 2025.0 will require Intel(R) Advanced Vector Extensions (Intel(R) AVX) instructions.\n"
     ]
    }
   ],
   "source": [
    "!pip install geopandas\n",
    "!pip install folium\n",
    "import leafmap.foliumap as leafmapF\n",
    "\n"
   ]
  },
  {
   "cell_type": "code",
   "execution_count": null,
   "metadata": {},
   "outputs": [],
   "source": [
    "m = leafmapF.Map(center=[40.7826, -73.9656], zoom=12, height='500px')\n",
    "m"
   ]
  },
  {
   "cell_type": "code",
   "execution_count": null,
   "metadata": {},
   "outputs": [],
   "source": [
    "practice_map = leafmap.Map()\n",
    "practice_map"
   ]
  }
 ],
 "metadata": {
  "kernelspec": {
   "display_name": "HAAAAAWK",
   "language": "python",
   "name": "python3"
  },
  "language_info": {
   "codemirror_mode": {
    "name": "ipython",
    "version": 3
   },
   "file_extension": ".py",
   "mimetype": "text/x-python",
   "name": "python",
   "nbconvert_exporter": "python",
   "pygments_lexer": "ipython3",
   "version": "3.10.13"
  },
  "orig_nbformat": 4
 },
 "nbformat": 4,
 "nbformat_minor": 2
}
